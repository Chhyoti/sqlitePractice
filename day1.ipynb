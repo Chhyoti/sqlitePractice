{
 "cells": [
  {
   "cell_type": "markdown",
   "id": "bcb09992",
   "metadata": {},
   "source": [
    "# this is header1 "
   ]
  },
  {
   "cell_type": "markdown",
   "id": "a7213bb8",
   "metadata": {},
   "source": [
    "## header2 "
   ]
  },
  {
   "cell_type": "markdown",
   "id": "f1a592a0",
   "metadata": {},
   "source": [
    "### header 3\n"
   ]
  },
  {
   "cell_type": "code",
   "execution_count": null,
   "id": "34e68290",
   "metadata": {},
   "outputs": [],
   "source": []
  },
  {
   "cell_type": "markdown",
   "id": "6da99440",
   "metadata": {},
   "source": []
  },
  {
   "cell_type": "code",
   "execution_count": 1,
   "id": "4bd0ab24",
   "metadata": {},
   "outputs": [
    {
     "name": "stdout",
     "output_type": "stream",
     "text": [
      "hello world\n"
     ]
    }
   ],
   "source": [
    "print(\"hello world\") "
   ]
  },
  {
   "cell_type": "code",
   "execution_count": 2,
   "id": "ad5f5852",
   "metadata": {},
   "outputs": [],
   "source": [
    "# '''This is multlineb comment '''"
   ]
  },
  {
   "cell_type": "code",
   "execution_count": null,
   "id": "372a18ba",
   "metadata": {},
   "outputs": [],
   "source": [
    "# create python variables \n",
    "name = 'Chhyoti'"
   ]
  },
  {
   "cell_type": "code",
   "execution_count": 4,
   "id": "e93a91d5",
   "metadata": {},
   "outputs": [
    {
     "data": {
      "text/plain": [
       "'Chhyoti'"
      ]
     },
     "execution_count": 4,
     "metadata": {},
     "output_type": "execute_result"
    }
   ],
   "source": [
    "name"
   ]
  },
  {
   "cell_type": "code",
   "execution_count": 5,
   "id": "9b07c894",
   "metadata": {},
   "outputs": [
    {
     "data": {
      "text/plain": [
       "'Chhyoti'"
      ]
     },
     "execution_count": 5,
     "metadata": {},
     "output_type": "execute_result"
    }
   ],
   "source": [
    "name"
   ]
  },
  {
   "cell_type": "code",
   "execution_count": 6,
   "id": "82331d6e",
   "metadata": {},
   "outputs": [],
   "source": [
    "a,b,c = 'ram','hari','sita '"
   ]
  },
  {
   "cell_type": "code",
   "execution_count": 7,
   "id": "9586ae07",
   "metadata": {},
   "outputs": [
    {
     "data": {
      "text/plain": [
       "('ram', 'sita ', 'sita ')"
      ]
     },
     "execution_count": 7,
     "metadata": {},
     "output_type": "execute_result"
    }
   ],
   "source": [
    "a,c,c"
   ]
  },
  {
   "cell_type": "code",
   "execution_count": 8,
   "id": "9b5912b9",
   "metadata": {},
   "outputs": [
    {
     "ename": "SyntaxError",
     "evalue": "invalid decimal literal (4043867405.py, line 1)",
     "output_type": "error",
     "traceback": [
      "  \u001b[36mCell\u001b[39m\u001b[36m \u001b[39m\u001b[32mIn[8]\u001b[39m\u001b[32m, line 1\u001b[39m\n\u001b[31m    \u001b[39m\u001b[31m0name = \"Hi\"\u001b[39m\n    ^\n\u001b[31mSyntaxError\u001b[39m\u001b[31m:\u001b[39m invalid decimal literal\n"
     ]
    }
   ],
   "source": [
    "0name = \"Hi\""
   ]
  },
  {
   "cell_type": "code",
   "execution_count": 9,
   "id": "8d4d03d6",
   "metadata": {},
   "outputs": [],
   "source": [
    "name2 = \"Hari\""
   ]
  },
  {
   "cell_type": "code",
   "execution_count": 10,
   "id": "697846b8",
   "metadata": {},
   "outputs": [
    {
     "data": {
      "text/plain": [
       "'Hari'"
      ]
     },
     "execution_count": 10,
     "metadata": {},
     "output_type": "execute_result"
    }
   ],
   "source": [
    "name2"
   ]
  },
  {
   "cell_type": "code",
   "execution_count": 13,
   "id": "9020738e",
   "metadata": {},
   "outputs": [],
   "source": [
    "# Interger variable \n",
    "num = 2 \n",
    "price = 250.60"
   ]
  },
  {
   "cell_type": "code",
   "execution_count": 12,
   "id": "228995e4",
   "metadata": {},
   "outputs": [
    {
     "data": {
      "text/plain": [
       "2"
      ]
     },
     "execution_count": 12,
     "metadata": {},
     "output_type": "execute_result"
    }
   ],
   "source": [
    "num"
   ]
  },
  {
   "cell_type": "code",
   "execution_count": 14,
   "id": "0f04c715",
   "metadata": {},
   "outputs": [
    {
     "data": {
      "text/plain": [
       "250.6"
      ]
     },
     "execution_count": 14,
     "metadata": {},
     "output_type": "execute_result"
    }
   ],
   "source": [
    "price"
   ]
  },
  {
   "cell_type": "code",
   "execution_count": 15,
   "id": "adda00de",
   "metadata": {},
   "outputs": [
    {
     "ename": "NameError",
     "evalue": "name 'bj' is not defined",
     "output_type": "error",
     "traceback": [
      "\u001b[31m---------------------------------------------------------------------------\u001b[39m",
      "\u001b[31mNameError\u001b[39m                                 Traceback (most recent call last)",
      "\u001b[36mCell\u001b[39m\u001b[36m \u001b[39m\u001b[32mIn[15]\u001b[39m\u001b[32m, line 1\u001b[39m\n\u001b[32m----> \u001b[39m\u001b[32m1\u001b[39m x = a + \u001b[43mbj\u001b[49m\n",
      "\u001b[31mNameError\u001b[39m: name 'bj' is not defined"
     ]
    }
   ],
   "source": [
    "x = a + bj"
   ]
  },
  {
   "cell_type": "code",
   "execution_count": 16,
   "id": "be909110",
   "metadata": {},
   "outputs": [],
   "source": [
    "com = 1+ 5j\n"
   ]
  },
  {
   "cell_type": "code",
   "execution_count": 17,
   "id": "e12f626e",
   "metadata": {},
   "outputs": [
    {
     "data": {
      "text/plain": [
       "(1+5j)"
      ]
     },
     "execution_count": 17,
     "metadata": {},
     "output_type": "execute_result"
    }
   ],
   "source": [
    "com"
   ]
  },
  {
   "cell_type": "code",
   "execution_count": 18,
   "id": "24c4d571",
   "metadata": {},
   "outputs": [],
   "source": [
    "name =\"hi\""
   ]
  },
  {
   "cell_type": "code",
   "execution_count": 19,
   "id": "4e5942b2",
   "metadata": {},
   "outputs": [
    {
     "data": {
      "text/plain": [
       "'hi'"
      ]
     },
     "execution_count": 19,
     "metadata": {},
     "output_type": "execute_result"
    }
   ],
   "source": [
    "name"
   ]
  },
  {
   "cell_type": "code",
   "execution_count": 20,
   "id": "944eda9d",
   "metadata": {},
   "outputs": [
    {
     "data": {
      "text/plain": [
       "str"
      ]
     },
     "execution_count": 20,
     "metadata": {},
     "output_type": "execute_result"
    }
   ],
   "source": [
    "type(name)"
   ]
  },
  {
   "cell_type": "code",
   "execution_count": 21,
   "id": "83f1a227",
   "metadata": {},
   "outputs": [],
   "source": [
    "Bool = True "
   ]
  },
  {
   "cell_type": "code",
   "execution_count": 22,
   "id": "3171d681",
   "metadata": {},
   "outputs": [
    {
     "data": {
      "text/plain": [
       "type"
      ]
     },
     "execution_count": 22,
     "metadata": {},
     "output_type": "execute_result"
    }
   ],
   "source": [
    "type(bool)"
   ]
  },
  {
   "cell_type": "code",
   "execution_count": 23,
   "id": "768a8698",
   "metadata": {},
   "outputs": [
    {
     "data": {
      "text/plain": [
       "bool"
      ]
     },
     "execution_count": 23,
     "metadata": {},
     "output_type": "execute_result"
    }
   ],
   "source": [
    "type(Bool)\n"
   ]
  },
  {
   "cell_type": "code",
   "execution_count": 24,
   "id": "4ad5465c",
   "metadata": {},
   "outputs": [
    {
     "name": "stdout",
     "output_type": "stream",
     "text": [
      "<class 'float'>\n",
      "<class 'int'>\n"
     ]
    }
   ],
   "source": [
    "# typecasting\n",
    "f1 = 2.3\n",
    "k1 = 3 \n",
    "print(type(f1))\n",
    "\n",
    "print(type(k1))\n"
   ]
  },
  {
   "cell_type": "code",
   "execution_count": null,
   "id": "6a74d45f",
   "metadata": {},
   "outputs": [
    {
     "name": "stdout",
     "output_type": "stream",
     "text": [
      "0.7666666666666666\n"
     ]
    }
   ],
   "source": [
    "k1 = f1/k1\n",
    "print(f1/k1)"
   ]
  },
  {
   "cell_type": "code",
   "execution_count": 28,
   "id": "1c109d8b",
   "metadata": {},
   "outputs": [
    {
     "name": "stdout",
     "output_type": "stream",
     "text": [
      "<class 'int'>\n"
     ]
    }
   ],
   "source": [
    "print(type(k1))"
   ]
  },
  {
   "cell_type": "code",
   "execution_count": 29,
   "id": "1b9c1ef6",
   "metadata": {},
   "outputs": [
    {
     "ename": "ValueError",
     "evalue": "invalid literal for int() with base 10: 'Enter 1st num'",
     "output_type": "error",
     "traceback": [
      "\u001b[31m---------------------------------------------------------------------------\u001b[39m",
      "\u001b[31mValueError\u001b[39m                                Traceback (most recent call last)",
      "\u001b[36mCell\u001b[39m\u001b[36m \u001b[39m\u001b[32mIn[29]\u001b[39m\u001b[32m, line 1\u001b[39m\n\u001b[32m----> \u001b[39m\u001b[32m1\u001b[39m task1 = \u001b[38;5;28minput\u001b[39m(\u001b[38;5;28;43mint\u001b[39;49m\u001b[43m(\u001b[49m\u001b[33;43m\"\u001b[39;49m\u001b[33;43mEnter 1st num\u001b[39;49m\u001b[33;43m\"\u001b[39;49m\u001b[43m)\u001b[49m)\n\u001b[32m      2\u001b[39m task2 = \u001b[38;5;28minput\u001b[39m(\u001b[38;5;28mint\u001b[39m(\u001b[33m\"\u001b[39m\u001b[33mEnter 1st num\u001b[39m\u001b[33m\"\u001b[39m))\n\u001b[32m      3\u001b[39m result = task1 + task2 \n",
      "\u001b[31mValueError\u001b[39m: invalid literal for int() with base 10: 'Enter 1st num'"
     ]
    }
   ],
   "source": [
    "task1 = input(int(\"Enter 1st num\"))\n",
    "task2 = input(int(\"Enter 1st num\"))\n",
    "result = task1 + task2 "
   ]
  },
  {
   "cell_type": "code",
   "execution_count": 32,
   "id": "4dd1fc5e",
   "metadata": {},
   "outputs": [
    {
     "ename": "ValueError",
     "evalue": "invalid literal for int() with base 10: 'Enter a numer: '",
     "output_type": "error",
     "traceback": [
      "\u001b[31m---------------------------------------------------------------------------\u001b[39m",
      "\u001b[31mValueError\u001b[39m                                Traceback (most recent call last)",
      "\u001b[36mCell\u001b[39m\u001b[36m \u001b[39m\u001b[32mIn[32]\u001b[39m\u001b[32m, line 1\u001b[39m\n\u001b[32m----> \u001b[39m\u001b[32m1\u001b[39m x = \u001b[38;5;28minput\u001b[39m(\u001b[38;5;28;43mint\u001b[39;49m\u001b[43m(\u001b[49m\u001b[33;43m\"\u001b[39;49m\u001b[33;43mEnter a numer: \u001b[39;49m\u001b[33;43m\"\u001b[39;49m\u001b[43m)\u001b[49m)\n",
      "\u001b[31mValueError\u001b[39m: invalid literal for int() with base 10: 'Enter a numer: '"
     ]
    }
   ],
   "source": [
    "x = int(input(\"Enter a numer: \"))\n",
    "y = int(input(\"Enter a numer: \"))\n",
    "print(x + y)"
   ]
  },
  {
   "cell_type": "code",
   "execution_count": 33,
   "id": "27cb57ef",
   "metadata": {},
   "outputs": [
    {
     "name": "stdout",
     "output_type": "stream",
     "text": [
      "5\n"
     ]
    }
   ],
   "source": [
    "x = int(input(\"Enter a 1st numer: \"))\n",
    "y = int(input(\"Enter a 2nd  numer: \"))\n",
    "print(x + y)"
   ]
  },
  {
   "cell_type": "code",
   "execution_count": 39,
   "id": "fb42f674",
   "metadata": {},
   "outputs": [
    {
     "name": "stdout",
     "output_type": "stream",
     "text": [
      "My name is  Hair age is 40\n",
      "My name is Hair , age is, 40\n"
     ]
    }
   ],
   "source": [
    "\n",
    "name = 'Hair'\n",
    "age =  40\n",
    "print('My name is ', name , 'age is', age)\n",
    "print(f'My name is {name } , age is, {age}')"
   ]
  },
  {
   "cell_type": "markdown",
   "id": "2a3f2ee0",
   "metadata": {},
   "source": []
  },
  {
   "cell_type": "code",
   "execution_count": null,
   "id": "08ae46fc",
   "metadata": {},
   "outputs": [],
   "source": [
    "# Foramt method\n",
    " \n",
    "print('My name is' {} , 'age is', {}.format(name ,age)"
   ]
  },
  {
   "cell_type": "code",
   "execution_count": 42,
   "id": "3bfefa7c",
   "metadata": {},
   "outputs": [
    {
     "data": {
      "text/plain": [
       "list"
      ]
     },
     "execution_count": 42,
     "metadata": {},
     "output_type": "execute_result"
    }
   ],
   "source": [
    "# List []\n",
    "list = [1,2,3]\n",
    "type(list)\n"
   ]
  },
  {
   "cell_type": "code",
   "execution_count": 44,
   "id": "21f006e2",
   "metadata": {},
   "outputs": [
    {
     "data": {
      "text/plain": [
       "2"
      ]
     },
     "execution_count": 44,
     "metadata": {},
     "output_type": "execute_result"
    }
   ],
   "source": [
    "# mutable\n",
    "list[-2]"
   ]
  },
  {
   "cell_type": "code",
   "execution_count": 45,
   "id": "ea5637e2",
   "metadata": {},
   "outputs": [
    {
     "data": {
      "text/plain": [
       "[1, 2]"
      ]
     },
     "execution_count": 45,
     "metadata": {},
     "output_type": "execute_result"
    }
   ],
   "source": [
    "list[0:2]\n"
   ]
  },
  {
   "cell_type": "code",
   "execution_count": 58,
   "id": "f97df749",
   "metadata": {},
   "outputs": [
    {
     "data": {
      "text/plain": [
       "8"
      ]
     },
     "execution_count": 58,
     "metadata": {},
     "output_type": "execute_result"
    }
   ],
   "source": [
    "list1 = [1,2,3,4,5,6,7,8,9]\n",
    "#  positive indexing \n",
    "\n",
    "# negative indexing \n",
    "list1[-2]\n",
    "#slicing \n"
   ]
  },
  {
   "cell_type": "code",
   "execution_count": 56,
   "id": "e9532df3",
   "metadata": {},
   "outputs": [
    {
     "data": {
      "text/plain": [
       "2"
      ]
     },
     "execution_count": 56,
     "metadata": {},
     "output_type": "execute_result"
    }
   ],
   "source": [
    "list[-2]\n"
   ]
  },
  {
   "cell_type": "code",
   "execution_count": null,
   "id": "e7c56e70",
   "metadata": {},
   "outputs": [
    {
     "data": {
      "text/plain": [
       "set"
      ]
     },
     "execution_count": 59,
     "metadata": {},
     "output_type": "execute_result"
    }
   ],
   "source": [
    "# sets \n",
    "# Unique\n",
    "# unordered \n",
    "# union, intersection,difference\n",
    "# mutable \n",
    "\n",
    "s1 = {2,3,4,5,6,7}\n",
    "type(s1)"
   ]
  },
  {
   "cell_type": "code",
   "execution_count": 60,
   "id": "57a88a32",
   "metadata": {},
   "outputs": [
    {
     "data": {
      "text/plain": [
       "{2, 3, 4, 5, 6, 7}"
      ]
     },
     "execution_count": 60,
     "metadata": {},
     "output_type": "execute_result"
    }
   ],
   "source": [
    "s1"
   ]
  },
  {
   "cell_type": "code",
   "execution_count": 62,
   "id": "a737ef74",
   "metadata": {},
   "outputs": [
    {
     "ename": "TypeError",
     "evalue": "'set' object is not subscriptable",
     "output_type": "error",
     "traceback": [
      "\u001b[31m---------------------------------------------------------------------------\u001b[39m",
      "\u001b[31mTypeError\u001b[39m                                 Traceback (most recent call last)",
      "\u001b[36mCell\u001b[39m\u001b[36m \u001b[39m\u001b[32mIn[62]\u001b[39m\u001b[32m, line 1\u001b[39m\n\u001b[32m----> \u001b[39m\u001b[32m1\u001b[39m \u001b[43ms1\u001b[49m\u001b[43m[\u001b[49m\u001b[32;43m0\u001b[39;49m\u001b[43m]\u001b[49m\n",
      "\u001b[31mTypeError\u001b[39m: 'set' object is not subscriptable"
     ]
    }
   ],
   "source": [
    "s1[0]"
   ]
  },
  {
   "cell_type": "code",
   "execution_count": 63,
   "id": "bcf4b52f",
   "metadata": {},
   "outputs": [
    {
     "name": "stdout",
     "output_type": "stream",
     "text": [
      "{1, 2, 3, 4, 5, 6, 7, 9, 58}\n"
     ]
    }
   ],
   "source": [
    "s1 = {1,2,3,4,5}\n",
    "s2 = {58,9,6,7}\n",
    "# union\n",
    "print(s1 | s2)\n"
   ]
  },
  {
   "cell_type": "code",
   "execution_count": 65,
   "id": "0192e579",
   "metadata": {},
   "outputs": [
    {
     "name": "stdout",
     "output_type": "stream",
     "text": [
      "{2, 3}\n"
     ]
    }
   ],
   "source": [
    "s1 = {1,2,3,4,5}\n",
    "s2 = {58,9,6,7,2,3}\n",
    "\n",
    "print(s1 & s2)"
   ]
  },
  {
   "cell_type": "code",
   "execution_count": null,
   "id": "f32eb3fd",
   "metadata": {},
   "outputs": [
    {
     "name": "stdout",
     "output_type": "stream",
     "text": [
      "Hari\n",
      "20\n",
      "kathmandu\n"
     ]
    }
   ],
   "source": [
    "# create dictionary\n",
    "dict1 = {'name':'Hari','age':20,'city':'kathmandu'}\n",
    "print(dict1[\"name\"])\n",
    "print(dict1[\"age\"])\n",
    "print(dict1[\"city\"])\n"
   ]
  },
  {
   "cell_type": "code",
   "execution_count": 70,
   "id": "6eebb8a7",
   "metadata": {},
   "outputs": [],
   "source": [
    "dict1['age'] = 34"
   ]
  },
  {
   "cell_type": "code",
   "execution_count": 71,
   "id": "52c85882",
   "metadata": {},
   "outputs": [
    {
     "data": {
      "text/plain": [
       "{'name': 'Hari', 'age': 34, 'city': 'kathmandu'}"
      ]
     },
     "execution_count": 71,
     "metadata": {},
     "output_type": "execute_result"
    }
   ],
   "source": [
    "dict1\n"
   ]
  },
  {
   "cell_type": "code",
   "execution_count": 73,
   "id": "3a4bed85",
   "metadata": {},
   "outputs": [
    {
     "ename": "AttributeError",
     "evalue": "type object 'dict' has no attribute 'add'",
     "output_type": "error",
     "traceback": [
      "\u001b[31m---------------------------------------------------------------------------\u001b[39m",
      "\u001b[31mAttributeError\u001b[39m                            Traceback (most recent call last)",
      "\u001b[36mCell\u001b[39m\u001b[36m \u001b[39m\u001b[32mIn[73]\u001b[39m\u001b[32m, line 1\u001b[39m\n\u001b[32m----> \u001b[39m\u001b[32m1\u001b[39m \u001b[38;5;28;43mdict\u001b[39;49m\u001b[43m.\u001b[49m\u001b[43madd\u001b[49m(\u001b[33m'\u001b[39m\u001b[33mgender\u001b[39m\u001b[33m'\u001b[39m)\n",
      "\u001b[31mAttributeError\u001b[39m: type object 'dict' has no attribute 'add'"
     ]
    }
   ],
   "source": [
    "dict.add('gender')"
   ]
  },
  {
   "cell_type": "code",
   "execution_count": 74,
   "id": "2e46b9cd",
   "metadata": {},
   "outputs": [],
   "source": [
    "#frozenset - immutable set \n",
    "fs = frozenset ([1,2,3,4,4,6,7])\n"
   ]
  },
  {
   "cell_type": "code",
   "execution_count": 75,
   "id": "8baf9811",
   "metadata": {},
   "outputs": [
    {
     "data": {
      "text/plain": [
       "frozenset({1, 2, 3, 4, 6, 7})"
      ]
     },
     "execution_count": 75,
     "metadata": {},
     "output_type": "execute_result"
    }
   ],
   "source": [
    "fs"
   ]
  },
  {
   "cell_type": "code",
   "execution_count": 76,
   "id": "a9fc2a60",
   "metadata": {},
   "outputs": [],
   "source": [
    "# deque - double ended queue\n",
    "from collections import deque\n"
   ]
  },
  {
   "cell_type": "code",
   "execution_count": 77,
   "id": "c3af73b3",
   "metadata": {},
   "outputs": [
    {
     "data": {
      "text/plain": [
       "collections.deque"
      ]
     },
     "execution_count": 77,
     "metadata": {},
     "output_type": "execute_result"
    }
   ],
   "source": [
    "dq = deque([1,2,3,4])\n",
    "type(dq)"
   ]
  },
  {
   "cell_type": "code",
   "execution_count": 78,
   "id": "16451646",
   "metadata": {},
   "outputs": [],
   "source": [
    "dq.append(3)"
   ]
  },
  {
   "cell_type": "code",
   "execution_count": 79,
   "id": "9d1f15eb",
   "metadata": {},
   "outputs": [
    {
     "data": {
      "text/plain": [
       "deque([1, 2, 3, 4, 3])"
      ]
     },
     "execution_count": 79,
     "metadata": {},
     "output_type": "execute_result"
    }
   ],
   "source": [
    "dq"
   ]
  },
  {
   "cell_type": "code",
   "execution_count": 80,
   "id": "54b03526",
   "metadata": {},
   "outputs": [],
   "source": [
    "# appendleft = adds in start\n",
    "dq.appendleft(6)"
   ]
  },
  {
   "cell_type": "code",
   "execution_count": 81,
   "id": "e2a5826d",
   "metadata": {},
   "outputs": [
    {
     "data": {
      "text/plain": [
       "deque([6, 1, 2, 3, 4, 3])"
      ]
     },
     "execution_count": 81,
     "metadata": {},
     "output_type": "execute_result"
    }
   ],
   "source": [
    "dq\n"
   ]
  },
  {
   "cell_type": "code",
   "execution_count": 82,
   "id": "93c5c310",
   "metadata": {},
   "outputs": [
    {
     "ename": "TypeError",
     "evalue": "deque.pop() takes no arguments (1 given)",
     "output_type": "error",
     "traceback": [
      "\u001b[31m---------------------------------------------------------------------------\u001b[39m",
      "\u001b[31mTypeError\u001b[39m                                 Traceback (most recent call last)",
      "\u001b[36mCell\u001b[39m\u001b[36m \u001b[39m\u001b[32mIn[82]\u001b[39m\u001b[32m, line 1\u001b[39m\n\u001b[32m----> \u001b[39m\u001b[32m1\u001b[39m \u001b[43mdq\u001b[49m\u001b[43m.\u001b[49m\u001b[43mpop\u001b[49m\u001b[43m(\u001b[49m\u001b[32;43m1\u001b[39;49m\u001b[43m)\u001b[49m\n",
      "\u001b[31mTypeError\u001b[39m: deque.pop() takes no arguments (1 given)"
     ]
    }
   ],
   "source": [
    "dq.pop(1)"
   ]
  },
  {
   "cell_type": "code",
   "execution_count": 83,
   "id": "dcdfc037",
   "metadata": {},
   "outputs": [],
   "source": [
    "dq.remove(2)"
   ]
  },
  {
   "cell_type": "code",
   "execution_count": 84,
   "id": "5855a895",
   "metadata": {},
   "outputs": [
    {
     "data": {
      "text/plain": [
       "deque([6, 1, 3, 4, 3])"
      ]
     },
     "execution_count": 84,
     "metadata": {},
     "output_type": "execute_result"
    }
   ],
   "source": [
    "dq\n"
   ]
  },
  {
   "cell_type": "code",
   "execution_count": 85,
   "id": "8a96743e",
   "metadata": {},
   "outputs": [
    {
     "ename": "TypeError",
     "evalue": "deque.pop() takes no arguments (1 given)",
     "output_type": "error",
     "traceback": [
      "\u001b[31m---------------------------------------------------------------------------\u001b[39m",
      "\u001b[31mTypeError\u001b[39m                                 Traceback (most recent call last)",
      "\u001b[36mCell\u001b[39m\u001b[36m \u001b[39m\u001b[32mIn[85]\u001b[39m\u001b[32m, line 1\u001b[39m\n\u001b[32m----> \u001b[39m\u001b[32m1\u001b[39m \u001b[43mdq\u001b[49m\u001b[43m.\u001b[49m\u001b[43mpop\u001b[49m\u001b[43m(\u001b[49m\u001b[32;43m3\u001b[39;49m\u001b[43m)\u001b[49m\n",
      "\u001b[31mTypeError\u001b[39m: deque.pop() takes no arguments (1 given)"
     ]
    }
   ],
   "source": [
    "dq.pop(3)"
   ]
  },
  {
   "cell_type": "code",
   "execution_count": 88,
   "id": "fd4b46dc",
   "metadata": {},
   "outputs": [
    {
     "ename": "TypeError",
     "evalue": "first argument must be callable or None",
     "output_type": "error",
     "traceback": [
      "\u001b[31m---------------------------------------------------------------------------\u001b[39m",
      "\u001b[31mTypeError\u001b[39m                                 Traceback (most recent call last)",
      "\u001b[36mCell\u001b[39m\u001b[36m \u001b[39m\u001b[32mIn[88]\u001b[39m\u001b[32m, line 3\u001b[39m\n\u001b[32m      1\u001b[39m \u001b[38;5;66;03m# defaultdict \u001b[39;00m\n\u001b[32m      2\u001b[39m \u001b[38;5;28;01mfrom\u001b[39;00m\u001b[38;5;250m \u001b[39m\u001b[34;01mcollections\u001b[39;00m\u001b[38;5;250m \u001b[39m\u001b[38;5;28;01mimport\u001b[39;00m defaultdict\n\u001b[32m----> \u001b[39m\u001b[32m3\u001b[39m dd= \u001b[43mdefaultdict\u001b[49m\u001b[43m(\u001b[49m\u001b[38;5;28;43mlist\u001b[39;49m\u001b[43m)\u001b[49m\n",
      "\u001b[31mTypeError\u001b[39m: first argument must be callable or None"
     ]
    }
   ],
   "source": [
    "# defaultdict \n",
    "from collections import defaultdict\n",
    "dd= defaultdict(list)\n"
   ]
  },
  {
   "cell_type": "code",
   "execution_count": 89,
   "id": "818b181a",
   "metadata": {},
   "outputs": [],
   "source": [
    "# counter\n",
    "from collections import Counter\n",
    "c= Counter(\"sdbvakjshdfgawjkdsfghvawjd\")\n"
   ]
  },
  {
   "cell_type": "code",
   "execution_count": 90,
   "id": "107da79c",
   "metadata": {},
   "outputs": [
    {
     "data": {
      "text/plain": [
       "Counter({'d': 4,\n",
       "         's': 3,\n",
       "         'a': 3,\n",
       "         'j': 3,\n",
       "         'v': 2,\n",
       "         'k': 2,\n",
       "         'h': 2,\n",
       "         'f': 2,\n",
       "         'g': 2,\n",
       "         'w': 2,\n",
       "         'b': 1})"
      ]
     },
     "execution_count": 90,
     "metadata": {},
     "output_type": "execute_result"
    }
   ],
   "source": [
    "c\n"
   ]
  },
  {
   "cell_type": "code",
   "execution_count": 91,
   "id": "a5cd719e",
   "metadata": {},
   "outputs": [],
   "source": [
    "# List comprehensions\n",
    "# generate a square number of the given lsit \n",
    "l1 =[1,2,4,5,6,7,8,9]\n",
    "lc =[ item *item for item in l1 ]"
   ]
  },
  {
   "cell_type": "code",
   "execution_count": 92,
   "id": "c3deb768",
   "metadata": {},
   "outputs": [
    {
     "data": {
      "text/plain": [
       "[1, 4, 16, 25, 36, 49, 64, 81]"
      ]
     },
     "execution_count": 92,
     "metadata": {},
     "output_type": "execute_result"
    }
   ],
   "source": [
    "lc"
   ]
  },
  {
   "cell_type": "code",
   "execution_count": 97,
   "id": "54cdccb5",
   "metadata": {},
   "outputs": [],
   "source": [
    "# using list comprehension find even number from the list\n",
    "l2 =[1,2,3,4,5,6,7,8]\n",
    "lc2 =[item  for item in l2 if item % 2 == 0]\n"
   ]
  },
  {
   "cell_type": "code",
   "execution_count": 94,
   "id": "4ff411ed",
   "metadata": {},
   "outputs": [
    {
     "data": {
      "text/plain": [
       "[False, True, False, True, False, True, False, True]"
      ]
     },
     "execution_count": 94,
     "metadata": {},
     "output_type": "execute_result"
    }
   ],
   "source": [
    "lc2"
   ]
  },
  {
   "cell_type": "code",
   "execution_count": 98,
   "id": "23422aa7",
   "metadata": {},
   "outputs": [
    {
     "data": {
      "text/plain": [
       "[1, 2, 3, 4, 5, 6, 7, 8]"
      ]
     },
     "execution_count": 98,
     "metadata": {},
     "output_type": "execute_result"
    }
   ],
   "source": [
    "l2"
   ]
  },
  {
   "cell_type": "code",
   "execution_count": 99,
   "id": "a44521a1",
   "metadata": {},
   "outputs": [
    {
     "data": {
      "text/plain": [
       "[2, 4, 6, 8]"
      ]
     },
     "execution_count": 99,
     "metadata": {},
     "output_type": "execute_result"
    }
   ],
   "source": [
    "lc2"
   ]
  },
  {
   "cell_type": "code",
   "execution_count": 102,
   "id": "4ee41ab0",
   "metadata": {},
   "outputs": [],
   "source": [
    "l3 =['Hari','ram','shyam']\n",
    "lc3 = [ item.upper() for item in l3 ]\n"
   ]
  },
  {
   "cell_type": "code",
   "execution_count": 101,
   "id": "e586a1bc",
   "metadata": {},
   "outputs": [
    {
     "data": {
      "text/plain": [
       "[<function str.upper()>, <function str.upper()>, <function str.upper()>]"
      ]
     },
     "execution_count": 101,
     "metadata": {},
     "output_type": "execute_result"
    }
   ],
   "source": [
    "lc3"
   ]
  },
  {
   "cell_type": "code",
   "execution_count": 103,
   "id": "3b94b8f9",
   "metadata": {},
   "outputs": [
    {
     "data": {
      "text/plain": [
       "['HARI', 'RAM', 'SHYAM']"
      ]
     },
     "execution_count": 103,
     "metadata": {},
     "output_type": "execute_result"
    }
   ],
   "source": [
    "lc3"
   ]
  },
  {
   "cell_type": "code",
   "execution_count": 104,
   "id": "6a90457b",
   "metadata": {},
   "outputs": [],
   "source": [
    "# dictionary comprehension\n",
    "dic1 ={item:item.upper() for item in l3}"
   ]
  },
  {
   "cell_type": "code",
   "execution_count": 105,
   "id": "a581272c",
   "metadata": {},
   "outputs": [
    {
     "data": {
      "text/plain": [
       "{'Hari': 'HARI', 'ram': 'RAM', 'shyam': 'SHYAM'}"
      ]
     },
     "execution_count": 105,
     "metadata": {},
     "output_type": "execute_result"
    }
   ],
   "source": [
    "dic1"
   ]
  },
  {
   "cell_type": "code",
   "execution_count": null,
   "id": "de61c0bd",
   "metadata": {},
   "outputs": [],
   "source": [
    "# Task3 create comprehension to print square no upto 10\n",
    "l4 =[ 1,2,3,4,5]\n",
    "lc5 = {item:item*item for item in range(10)}"
   ]
  },
  {
   "cell_type": "code",
   "execution_count": 107,
   "id": "621adabb",
   "metadata": {},
   "outputs": [
    {
     "data": {
      "text/plain": [
       "{0: 0, 1: 1, 2: 4, 3: 9, 4: 16, 5: 25, 6: 36, 7: 49, 8: 64, 9: 81}"
      ]
     },
     "execution_count": 107,
     "metadata": {},
     "output_type": "execute_result"
    }
   ],
   "source": [
    "lc5"
   ]
  },
  {
   "cell_type": "code",
   "execution_count": null,
   "id": "756328c4",
   "metadata": {},
   "outputs": [],
   "source": [
    "# generators\n",
    "g1 = (item for item in range(10))\n"
   ]
  },
  {
   "cell_type": "code",
   "execution_count": 109,
   "id": "48bc090c",
   "metadata": {},
   "outputs": [
    {
     "data": {
      "text/plain": [
       "{0, 1, 2, 3, 4, 5, 6, 7, 8, 9}"
      ]
     },
     "execution_count": 109,
     "metadata": {},
     "output_type": "execute_result"
    }
   ],
   "source": [
    "g1"
   ]
  },
  {
   "cell_type": "code",
   "execution_count": 113,
   "id": "9247aef5",
   "metadata": {},
   "outputs": [
    {
     "ename": "TypeError",
     "evalue": "'set' object is not an iterator",
     "output_type": "error",
     "traceback": [
      "\u001b[31m---------------------------------------------------------------------------\u001b[39m",
      "\u001b[31mTypeError\u001b[39m                                 Traceback (most recent call last)",
      "\u001b[36mCell\u001b[39m\u001b[36m \u001b[39m\u001b[32mIn[113]\u001b[39m\u001b[32m, line 1\u001b[39m\n\u001b[32m----> \u001b[39m\u001b[32m1\u001b[39m \u001b[38;5;28;43mnext\u001b[39;49m\u001b[43m(\u001b[49m\u001b[43mg1\u001b[49m\u001b[43m)\u001b[49m\n",
      "\u001b[31mTypeError\u001b[39m: 'set' object is not an iterator"
     ]
    }
   ],
   "source": [
    "next(g1)"
   ]
  },
  {
   "cell_type": "code",
   "execution_count": 1,
   "id": "c5d242fb",
   "metadata": {},
   "outputs": [],
   "source": [
    "list1 = [\"apple\",\"mango\",\"orange\"]"
   ]
  },
  {
   "cell_type": "code",
   "execution_count": 2,
   "id": "7d40b7ec",
   "metadata": {},
   "outputs": [
    {
     "data": {
      "text/plain": [
       "['apple', 'mango', 'orange']"
      ]
     },
     "execution_count": 2,
     "metadata": {},
     "output_type": "execute_result"
    }
   ],
   "source": [
    "list1"
   ]
  },
  {
   "cell_type": "code",
   "execution_count": 3,
   "id": "819ab76f",
   "metadata": {},
   "outputs": [
    {
     "ename": "AttributeError",
     "evalue": "'list' object has no attribute 'add'",
     "output_type": "error",
     "traceback": [
      "\u001b[31m---------------------------------------------------------------------------\u001b[39m",
      "\u001b[31mAttributeError\u001b[39m                            Traceback (most recent call last)",
      "\u001b[36mCell\u001b[39m\u001b[36m \u001b[39m\u001b[32mIn[3]\u001b[39m\u001b[32m, line 1\u001b[39m\n\u001b[32m----> \u001b[39m\u001b[32m1\u001b[39m \u001b[43mlist1\u001b[49m\u001b[43m.\u001b[49m\u001b[43madd\u001b[49m(\u001b[33m\"\u001b[39m\u001b[33mLitchi\u001b[39m\u001b[33m\"\u001b[39m)\n",
      "\u001b[31mAttributeError\u001b[39m: 'list' object has no attribute 'add'"
     ]
    }
   ],
   "source": [
    "list1.add(\"Litchi\")"
   ]
  },
  {
   "cell_type": "code",
   "execution_count": 4,
   "id": "395fb4fd",
   "metadata": {},
   "outputs": [],
   "source": [
    "list1.append(\"Banana\")"
   ]
  },
  {
   "cell_type": "code",
   "execution_count": 5,
   "id": "2346435c",
   "metadata": {},
   "outputs": [
    {
     "data": {
      "text/plain": [
       "['apple', 'mango', 'orange', 'Banana']"
      ]
     },
     "execution_count": 5,
     "metadata": {},
     "output_type": "execute_result"
    }
   ],
   "source": [
    "list1\n"
   ]
  },
  {
   "cell_type": "code",
   "execution_count": 6,
   "id": "c26419d0",
   "metadata": {},
   "outputs": [],
   "source": [
    "numbers = (1,2,3)"
   ]
  },
  {
   "cell_type": "code",
   "execution_count": 7,
   "id": "4d19c27f",
   "metadata": {},
   "outputs": [],
   "source": [
    "d1 = {'a':'hi'}"
   ]
  },
  {
   "cell_type": "code",
   "execution_count": 8,
   "id": "9ff8b3b6",
   "metadata": {},
   "outputs": [
    {
     "data": {
      "text/plain": [
       "{'a': 'hi'}"
      ]
     },
     "execution_count": 8,
     "metadata": {},
     "output_type": "execute_result"
    }
   ],
   "source": [
    "d1"
   ]
  },
  {
   "cell_type": "code",
   "execution_count": 9,
   "id": "2a3e8f22",
   "metadata": {},
   "outputs": [],
   "source": [
    "d1['n'] ='m'"
   ]
  },
  {
   "cell_type": "code",
   "execution_count": 10,
   "id": "7d701e75",
   "metadata": {},
   "outputs": [
    {
     "data": {
      "text/plain": [
       "{'a': 'hi', 'n': 'm'}"
      ]
     },
     "execution_count": 10,
     "metadata": {},
     "output_type": "execute_result"
    }
   ],
   "source": [
    "d1"
   ]
  },
  {
   "cell_type": "code",
   "execution_count": 11,
   "id": "e816962b",
   "metadata": {},
   "outputs": [
    {
     "data": {
      "text/plain": [
       "True"
      ]
     },
     "execution_count": 11,
     "metadata": {},
     "output_type": "execute_result"
    }
   ],
   "source": [
    "'a' in d1"
   ]
  },
  {
   "cell_type": "code",
   "execution_count": null,
   "id": "d3d43008",
   "metadata": {},
   "outputs": [],
   "source": [
    "# lamBda function for small one line function \n",
    "# syntax\n",
    "#lambda variable/ parameter : function_body\n"
   ]
  },
  {
   "cell_type": "code",
   "execution_count": 2,
   "id": "2aff27dc",
   "metadata": {},
   "outputs": [
    {
     "data": {
      "text/plain": [
       "100"
      ]
     },
     "execution_count": 2,
     "metadata": {},
     "output_type": "execute_result"
    }
   ],
   "source": [
    "# create lambda function to get the square of the number \n",
    "result = lambda x: x*x \n",
    "result(10)"
   ]
  },
  {
   "cell_type": "code",
   "execution_count": 3,
   "id": "d836094b",
   "metadata": {},
   "outputs": [],
   "source": [
    "# map - applies functions to every iterables (list,set)\n",
    "#iterable like list\n",
    "#functions \n",
    "# map applies function to evry item of the list \n",
    " "
   ]
  },
  {
   "cell_type": "code",
   "execution_count": 4,
   "id": "43eeb6e0",
   "metadata": {},
   "outputs": [
    {
     "data": {
      "text/plain": [
       "[4, 5, 6, 7]"
      ]
     },
     "execution_count": 4,
     "metadata": {},
     "output_type": "execute_result"
    }
   ],
   "source": [
    "num1 = [1,2,3,4]\n",
    "# add 3 to every number\n",
    "add_3 = list(map(lambda x:x + 3, num1)) # function and iterable \n",
    "add_3"
   ]
  },
  {
   "cell_type": "code",
   "execution_count": 7,
   "id": "1479962c",
   "metadata": {},
   "outputs": [
    {
     "data": {
      "text/plain": [
       "[3, 6, 9]"
      ]
     },
     "execution_count": 7,
     "metadata": {},
     "output_type": "execute_result"
    }
   ],
   "source": [
    "#  use filter , gives True \n",
    "# filter(function, iteraable )\n",
    "# using filter from the list filter numbers divisible by 3 \n",
    "num2 =[1,2,3,4,5,6,7,8,9]\n",
    "divisible_3 = list(filter(lambda x: x % 3 == 0 , num2))\n",
    "divisible_3"
   ]
  },
  {
   "cell_type": "code",
   "execution_count": 8,
   "id": "84584c01",
   "metadata": {},
   "outputs": [],
   "source": [
    "# reduce (function, iterable)\n",
    "# to reduce to single iterable /value \n",
    "# repeatedly applies the function to the iterable\n",
    "from functools import reduce\n",
    "sum_num2 = reduce(lambda x,y : x+y,num2)"
   ]
  },
  {
   "cell_type": "code",
   "execution_count": 9,
   "id": "5e950b29",
   "metadata": {},
   "outputs": [
    {
     "data": {
      "text/plain": [
       "45"
      ]
     },
     "execution_count": 9,
     "metadata": {},
     "output_type": "execute_result"
    }
   ],
   "source": [
    "sum_num2"
   ]
  },
  {
   "cell_type": "code",
   "execution_count": 10,
   "id": "0d7088f9",
   "metadata": {},
   "outputs": [
    {
     "data": {
      "text/plain": [
       "[2, 4, 6, 8]"
      ]
     },
     "execution_count": 10,
     "metadata": {},
     "output_type": "execute_result"
    }
   ],
   "source": [
    "# task 2 \n",
    "# use lambda ,filter,map ,reduce to get the square sum of even number \n",
    "\n",
    "num3  =[1,2,3,4,5,6,7,8,9]\n",
    "even_num = list(filter(lambda x: x % 2 == 0 , num3))\n",
    "even_num"
   ]
  },
  {
   "cell_type": "code",
   "execution_count": 15,
   "id": "33d664be",
   "metadata": {},
   "outputs": [
    {
     "data": {
      "text/plain": [
       "[4, 16, 36, 64]"
      ]
     },
     "execution_count": 15,
     "metadata": {},
     "output_type": "execute_result"
    }
   ],
   "source": [
    "square_num = list(map(lambda x: x * x, even_num ))\n",
    "square_num"
   ]
  },
  {
   "cell_type": "markdown",
   "id": "4b49f7e5",
   "metadata": {},
   "source": []
  },
  {
   "cell_type": "code",
   "execution_count": 16,
   "id": "640aa564",
   "metadata": {},
   "outputs": [
    {
     "data": {
      "text/plain": [
       "120"
      ]
     },
     "execution_count": 16,
     "metadata": {},
     "output_type": "execute_result"
    }
   ],
   "source": [
    "from functools import reduce\n",
    "sum_num =  reduce(lambda x,y: x+ y, square_num)\n",
    "sum_num"
   ]
  },
  {
   "cell_type": "code",
   "execution_count": 18,
   "id": "202e43c7",
   "metadata": {},
   "outputs": [],
   "source": [
    "# Erroe handling\n",
    "#try/except\n",
    "# try/except/else/finally\n"
   ]
  },
  {
   "cell_type": "code",
   "execution_count": 19,
   "id": "3938cee5",
   "metadata": {},
   "outputs": [],
   "source": [
    "#try:\n",
    "    # code that can arise exception\n",
    "    #pass\n",
    "#except exception_type\"ArithmeticError\n",
    "    # code that shopws this exception\n",
    "   #pass\n",
    "#else:\n",
    "# program when run is success \n",
    "pass\n",
    "#finally:\n",
    "# always run this \n",
    "\n",
    "\n"
   ]
  },
  {
   "cell_type": "code",
   "execution_count": null,
   "id": "881a274c",
   "metadata": {},
   "outputs": [
    {
     "name": "stdout",
     "output_type": "stream",
     "text": [
      "input b=value is not correct\n",
      "Program success \n"
     ]
    }
   ],
   "source": [
    "try: \n",
    "    num1= int(input(\" Enter a number:\"))\n",
    "    num2 = int(input(\" Enter a number:\"))\n",
    "    div_res = num1/num2\n",
    "\n",
    "except ZeroDivisionError:\n",
    "    print(\"Second number can not be zero\")\n",
    "except ValueError:\n",
    "    print(\"input value is not correct\")\n",
    "\n",
    "else:\n",
    "    print(f\" The result is {div_res}\")\n",
    "    \n",
    "finally:\n",
    "    print(\"Program success \")\n"
   ]
  },
  {
   "cell_type": "code",
   "execution_count": 22,
   "id": "052f829c",
   "metadata": {},
   "outputs": [],
   "source": [
    "# creating custom exception \n",
    "class NegativeNumberError(Exception):\n",
    "    pass"
   ]
  },
  {
   "cell_type": "code",
   "execution_count": 23,
   "id": "b9eabca5",
   "metadata": {},
   "outputs": [],
   "source": [
    "def negative_age(x):\n",
    "    if x < 0:\n",
    "        raise NegativeNumberError('Age can not be negative')\n",
    "    return 'age is not valid'"
   ]
  },
  {
   "cell_type": "code",
   "execution_count": 25,
   "id": "207d583c",
   "metadata": {},
   "outputs": [
    {
     "name": "stdout",
     "output_type": "stream",
     "text": [
      "Age can not be negative\n"
     ]
    }
   ],
   "source": [
    "try:\n",
    "    negative_age(-1)\n",
    "except NegativeNumberError as e:\n",
    "    print(e)\n"
   ]
  },
  {
   "cell_type": "code",
   "execution_count": 26,
   "id": "c2b2dda7",
   "metadata": {},
   "outputs": [],
   "source": [
    "# assignment \n",
    "#Build a csv =json converter with exception haldling"
   ]
  },
  {
   "cell_type": "code",
   "execution_count": 28,
   "id": "574042fe",
   "metadata": {},
   "outputs": [],
   "source": [
    "# class -- blueprint for creating object\n",
    "class ClassName:\n",
    "    # class methods \n",
    "    pass \n",
    "# to initialixe class , create object\n",
    "c1 = ClassName()\n"
   ]
  },
  {
   "cell_type": "code",
   "execution_count": 39,
   "id": "9062db23",
   "metadata": {},
   "outputs": [
    {
     "name": "stdout",
     "output_type": "stream",
     "text": [
      "Build year: 2020, Model: milax, and the brand is Toyota\n"
     ]
    }
   ],
   "source": [
    "class Car:\n",
    "    def __init__(self,brand,model,year):\n",
    "        self.brand = brand\n",
    "        self.model = model\n",
    "        self.year = year\n",
    "        self.speed = 0 # default attribute\n",
    "        \n",
    "\n",
    "    def display_info(self):\n",
    "        print(f\"Build year: {self.year}, Model: {self.model}, and the brand is {self.brand}\")\n",
    "\n",
    "    def accelerate(self, amount):\n",
    "        self.speed += amount\n",
    "        print(\"car sppeed is\", self.speed, 'km/hr')\n",
    "\n",
    "    \n",
    "c2 = Car('Toyota','milax',2020)\n",
    "c2.display_info()\n",
    "\n",
    "\n",
    "\n",
    "\n"
   ]
  },
  {
   "cell_type": "code",
   "execution_count": 40,
   "id": "f08135dd",
   "metadata": {},
   "outputs": [
    {
     "name": "stdout",
     "output_type": "stream",
     "text": [
      "car sppeed is 90 km/hr\n"
     ]
    }
   ],
   "source": [
    "c2.accelerate(90)"
   ]
  },
  {
   "cell_type": "code",
   "execution_count": null,
   "id": "2a46e485",
   "metadata": {},
   "outputs": [],
   "source": [
    "# operator\n",
    "# vector addition\n",
    "class vector2D:\n",
    "    def __init__(self,x,y):\n",
    "        self.x =x \n",
    "        self.y = y\n",
    "    # string overloading \n",
    "    def __str__(self):\n",
    "        return f\"{self.x},{self.y}\"\n",
    "    # addition addition v1+ v2\n",
    "    def __add__(self, other):\n",
    "        return vector2D(self.x + other.x, self.y+other.y)\n",
    "    \n",
    "v1 = vector2D(2,3)\n",
    "v2 = vector2D(3,4 )"
   ]
  },
  {
   "cell_type": "code",
   "execution_count": 47,
   "id": "5724a244",
   "metadata": {},
   "outputs": [
    {
     "name": "stdout",
     "output_type": "stream",
     "text": [
      "5,7\n"
     ]
    }
   ],
   "source": [
    "print(v1+v2)"
   ]
  },
  {
   "cell_type": "markdown",
   "id": "655e1e3d",
   "metadata": {},
   "source": [
    "# Inheritance"
   ]
  },
  {
   "cell_type": "code",
   "execution_count": 49,
   "id": "1a409b07",
   "metadata": {},
   "outputs": [],
   "source": [
    "class Animal:\n",
    "    def __init__(self):\n",
    "        pass\n",
    "    \n",
    "    def speak(self):\n",
    "        print(\"animal speak\")\n",
    "\n",
    "    \n",
    "    "
   ]
  },
  {
   "cell_type": "code",
   "execution_count": 52,
   "id": "0b4247f4",
   "metadata": {},
   "outputs": [],
   "source": [
    "# Single inheriancw\n",
    "class Dog(Animal):\n",
    "    def __init__(self):\n",
    "        pass \n",
    "    def speak(self):\n",
    "        print('dog barks ')\n",
    "\n",
    "d1 = Dog()\n",
    "        "
   ]
  },
  {
   "cell_type": "code",
   "execution_count": 53,
   "id": "4b473529",
   "metadata": {},
   "outputs": [
    {
     "name": "stdout",
     "output_type": "stream",
     "text": [
      "dog barks \n"
     ]
    }
   ],
   "source": [
    "d1.speak()"
   ]
  },
  {
   "cell_type": "code",
   "execution_count": 58,
   "id": "41cda046",
   "metadata": {},
   "outputs": [],
   "source": [
    "class Employee:\n",
    "    def __init__(self,name,base_salary):\n",
    "        self.name = name\n",
    "        self.base_salary = base_salary\n",
    "\n",
    "    def get_details(self):\n",
    "        return f\" Employee name is {self.name},base salary: {self.base_salary}\"\n",
    "        \n",
    "\n",
    "class Manager(Employee):\n",
    "    def __init__(self,name,base_salary,bonus):\n",
    "        super().__init__(self,name,base_salary)\n",
    "        self.bonus = bonus \n",
    "\n",
    "    def get_details(self):\n",
    "          base=  super().get_details()\n",
    "          return f\"{base},Bonus:{self.bonus}\"\n",
    "\n",
    "s1 = Employee(\"Ram\", 20000)\n",
    "\n",
    "    \n",
    "\n"
   ]
  },
  {
   "cell_type": "code",
   "execution_count": 59,
   "id": "c4bc04fc",
   "metadata": {},
   "outputs": [],
   "source": [
    "# special class that add reusable functionality to other class, they aew not fully parent\n",
    "# __init__ is not defined \n",
    "from datetime import datetime\n",
    "class LogMixin():\n",
    "    def log(self):\n",
    "        return f\"[{datetime.now()}]: {message}\"\n",
    "    "
   ]
  },
  {
   "cell_type": "code",
   "execution_count": 61,
   "id": "646f9c4f",
   "metadata": {},
   "outputs": [
    {
     "ename": "TypeError",
     "evalue": "LogMixin.log() takes 1 positional argument but 2 were given",
     "output_type": "error",
     "traceback": [
      "\u001b[31m---------------------------------------------------------------------------\u001b[39m",
      "\u001b[31mTypeError\u001b[39m                                 Traceback (most recent call last)",
      "\u001b[36mCell\u001b[39m\u001b[36m \u001b[39m\u001b[32mIn[61]\u001b[39m\u001b[32m, line 8\u001b[39m\n\u001b[32m      6\u001b[39m         \u001b[38;5;28mprint\u001b[39m(\u001b[38;5;28mself\u001b[39m.log(\u001b[33mf\u001b[39m\u001b[33m\"\u001b[39m\u001b[38;5;132;01m{\u001b[39;00m\u001b[38;5;28mself\u001b[39m.username\u001b[38;5;132;01m}\u001b[39;00m\u001b[33m has logged in\u001b[39m\u001b[33m\"\u001b[39m))\n\u001b[32m      7\u001b[39m u1 = User(\u001b[33m'\u001b[39m\u001b[33madmin\u001b[39m\u001b[33m'\u001b[39m,\u001b[33m'\u001b[39m\u001b[33madmin1\u001b[39m\u001b[33m'\u001b[39m)\n\u001b[32m----> \u001b[39m\u001b[32m8\u001b[39m \u001b[43mu1\u001b[49m\u001b[43m.\u001b[49m\u001b[43mgreet\u001b[49m\u001b[43m(\u001b[49m\u001b[43m)\u001b[49m\n",
      "\u001b[36mCell\u001b[39m\u001b[36m \u001b[39m\u001b[32mIn[61]\u001b[39m\u001b[32m, line 6\u001b[39m, in \u001b[36mUser.greet\u001b[39m\u001b[34m(self)\u001b[39m\n\u001b[32m      5\u001b[39m \u001b[38;5;28;01mdef\u001b[39;00m\u001b[38;5;250m \u001b[39m\u001b[34mgreet\u001b[39m(\u001b[38;5;28mself\u001b[39m):\n\u001b[32m----> \u001b[39m\u001b[32m6\u001b[39m     \u001b[38;5;28mprint\u001b[39m(\u001b[38;5;28;43mself\u001b[39;49m\u001b[43m.\u001b[49m\u001b[43mlog\u001b[49m\u001b[43m(\u001b[49m\u001b[33;43mf\u001b[39;49m\u001b[33;43m\"\u001b[39;49m\u001b[38;5;132;43;01m{\u001b[39;49;00m\u001b[38;5;28;43mself\u001b[39;49m\u001b[43m.\u001b[49m\u001b[43musername\u001b[49m\u001b[38;5;132;43;01m}\u001b[39;49;00m\u001b[33;43m has logged in\u001b[39;49m\u001b[33;43m\"\u001b[39;49m\u001b[43m)\u001b[49m)\n",
      "\u001b[31mTypeError\u001b[39m: LogMixin.log() takes 1 positional argument but 2 were given"
     ]
    }
   ],
   "source": [
    "class User(LogMixin):\n",
    "    def __init__(self,username,password):\n",
    "        self.username = username\n",
    "        self.password = password\n",
    "    def greet(self):\n",
    "        print(self.log(f\"{self.username} has logged in\"))\n",
    "u1 = User('admin','admin1')\n",
    "u1.greet()\n",
    "    "
   ]
  },
  {
   "cell_type": "code",
   "execution_count": 77,
   "id": "8bf719fc",
   "metadata": {},
   "outputs": [
    {
     "name": "stdout",
     "output_type": "stream",
     "text": [
      "Original  price is 20000 and price after discount is 16000.0\n"
     ]
    }
   ],
   "source": [
    "\n",
    "class DiscountMixins():\n",
    "    def add_discount(self,percent):\n",
    "        discount = self.price * (percent/100)\n",
    "        print( f\"Original  price is {self.price} and price after discount is {self.price-discount}\")\n",
    "    \n",
    "\n",
    "class Product(DiscountMixins):\n",
    "    def __init__(self,price,name):\n",
    "        self.price =price\n",
    "        self.name = name \n",
    "\n",
    "    def final_price (self):\n",
    "        super().add_discount(20)\n",
    "      \n",
    "p1 = Product(20000,'mobile')\n",
    "p1.final_price()"
   ]
  },
  {
   "cell_type": "markdown",
   "id": "9b6c405d",
   "metadata": {},
   "source": [
    "# Assignment\n",
    "## #Build a csv =json converter with exception haldling"
   ]
  },
  {
   "cell_type": "code",
   "execution_count": 1,
   "id": "941edb30",
   "metadata": {},
   "outputs": [
    {
     "name": "stdout",
     "output_type": "stream",
     "text": [
      "Error: The file 'input.csv' was not found.\n"
     ]
    }
   ],
   "source": [
    "import csv\n",
    "import json\n",
    "\n",
    "def csv_to_json(csv_file_path, json_file_path):\n",
    "    try:\n",
    "        # Read CSV data\n",
    "        with open(csv_file_path, mode='r', encoding='utf-8') as csv_file:\n",
    "            csv_reader = csv.DictReader(csv_file)\n",
    "            data = list(csv_reader)  # Convert to list of dictionaries\n",
    "\n",
    "        # Write JSON data\n",
    "        with open(json_file_path, mode='w', encoding='utf-8') as json_file:\n",
    "            json.dump(data, json_file, indent=4)\n",
    "\n",
    "        print(f\"Successfully converted '{csv_file_path}' to '{json_file_path}'.\")\n",
    "\n",
    "    except FileNotFoundError:\n",
    "        print(f\"Error: The file '{csv_file_path}' was not found.\")\n",
    "    except PermissionError:\n",
    "        print(f\"Error: Permission denied when accessing the file.\")\n",
    "    except csv.Error as e:\n",
    "        print(f\"CSV error: {e}\")\n",
    "    except json.JSONDecodeError as e:\n",
    "        print(f\"JSON error: {e}\")\n",
    "    except Exception as e:\n",
    "        print(f\"An unexpected error occurred: {e}\")\n",
    "\n",
    "# Example usage:\n",
    "csv_file = 'input.csv'  # replace with your CSV file path\n",
    "json_file = 'output.json'  # desired JSON output file path\n",
    "\n",
    "csv_to_json(csv_file, json_file)\n"
   ]
  },
  {
   "cell_type": "code",
   "execution_count": null,
   "id": "053ccef0",
   "metadata": {},
   "outputs": [],
   "source": []
  }
 ],
 "metadata": {
  "kernelspec": {
   "display_name": "Python 3",
   "language": "python",
   "name": "python3"
  },
  "language_info": {
   "codemirror_mode": {
    "name": "ipython",
    "version": 3
   },
   "file_extension": ".py",
   "mimetype": "text/x-python",
   "name": "python",
   "nbconvert_exporter": "python",
   "pygments_lexer": "ipython3",
   "version": "3.13.3"
  }
 },
 "nbformat": 4,
 "nbformat_minor": 5
}
