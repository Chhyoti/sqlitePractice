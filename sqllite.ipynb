{
 "cells": [
  {
   "cell_type": "code",
   "execution_count": 1,
   "id": "661fde95",
   "metadata": {},
   "outputs": [],
   "source": [
    "import sqlite3\n",
    "\n",
    "# connect to the database (file will be created id doesnot exist)\n",
    "conn = sqlite3.connect('students.db')\n",
    "\n",
    "#create a cursor to execute a sql\n",
    "cursor=conn.cursor()\n",
    "\n",
    "#create table\n",
    "#sqlite data types\n",
    "#integer\n",
    "#real-float\n",
    "#text-string,date,character\n",
    "#blob-binary data\n",
    "#null\n",
    "\n",
    "cursor.execute(\"\"\"\n",
    "create table if not exists students(\n",
    "    id integer primary key autoincrement,\n",
    "    name text not null,\n",
    "    grade integer,\n",
    "    address text\n",
    ")\"\"\"\n",
    ")\n",
    "\n",
    "conn.commit()"
   ]
  },
  {
   "cell_type": "code",
   "execution_count": 4,
   "id": "bd76a75c",
   "metadata": {},
   "outputs": [],
   "source": [
    "# insert into table\n",
    "cursor.execute(\"\"\"insert into students(name,grade,address)\n",
    "values\n",
    "('Lin',12,'ktm'),\n",
    "('Lina',11,'ktm')\"\"\")\n",
    "conn.commit()\n",
    "\n"
   ]
  },
  {
   "cell_type": "code",
   "execution_count": 7,
   "id": "8376abb0",
   "metadata": {},
   "outputs": [],
   "source": [
    "# select\n",
    "cursor.execute(\"\"\"select * from students\"\"\")\n",
    "rows = cursor.fetchall()"
   ]
  },
  {
   "cell_type": "code",
   "execution_count": 8,
   "id": "da12355c",
   "metadata": {},
   "outputs": [
    {
     "name": "stdout",
     "output_type": "stream",
     "text": [
      "(1, 'Lin', 12, 'ktm')\n",
      "(2, 'Lina', 11, 'ktm')\n",
      "(3, 'Lin', 12, 'ktm')\n",
      "(4, 'Lina', 11, 'ktm')\n"
     ]
    }
   ],
   "source": [
    "for items in rows:\n",
    "    print(items)\n"
   ]
  },
  {
   "cell_type": "code",
   "execution_count": 11,
   "id": "efe589c9",
   "metadata": {},
   "outputs": [],
   "source": [
    "# update\n",
    "cursor.execute(\"\"\"update students\n",
    "set address = 'Lalitpur'\n",
    "where name = 'Lin' \"\"\")\n",
    "conn.commit()"
   ]
  },
  {
   "cell_type": "code",
   "execution_count": 12,
   "id": "99d65c5f",
   "metadata": {},
   "outputs": [],
   "source": [
    "#  insert new record into students\n",
    "cursor.execute(\"\"\" insert into students(name, grade,address)\n",
    "               values\n",
    "               ('Bishal',10, 'nuwakot')\n",
    "               \"\"\")\n",
    "conn.commit()"
   ]
  },
  {
   "cell_type": "code",
   "execution_count": 13,
   "id": "99d634a4",
   "metadata": {},
   "outputs": [],
   "source": [
    "#task2 select from students where id = 4\n",
    "cursor.execute(\"\"\" select*from students where id =3\"\"\")\n",
    "rows = cursor.fetchall()"
   ]
  },
  {
   "cell_type": "code",
   "execution_count": 14,
   "id": "53ce60ee",
   "metadata": {},
   "outputs": [
    {
     "data": {
      "text/plain": [
       "[(3, 'Lin', 12, 'Lalitpur')]"
      ]
     },
     "execution_count": 14,
     "metadata": {},
     "output_type": "execute_result"
    }
   ],
   "source": [
    "rows"
   ]
  },
  {
   "cell_type": "code",
   "execution_count": 15,
   "id": "e8ec0557",
   "metadata": {},
   "outputs": [],
   "source": [
    "# parameterized query - where user can pass the parameter\n",
    "# ? - placeholder\n",
    "# values are passed as tuple and list"
   ]
  },
  {
   "cell_type": "code",
   "execution_count": 16,
   "id": "de6f2a28",
   "metadata": {},
   "outputs": [],
   "source": [
    "conn = sqlite3.connect('students.db')"
   ]
  },
  {
   "cell_type": "code",
   "execution_count": 17,
   "id": "9ada2e9f",
   "metadata": {},
   "outputs": [],
   "source": [
    "cursor = conn.cursor()"
   ]
  },
  {
   "cell_type": "code",
   "execution_count": 18,
   "id": "fd526d95",
   "metadata": {},
   "outputs": [],
   "source": [
    "name = 'Bishal'"
   ]
  },
  {
   "cell_type": "code",
   "execution_count": 20,
   "id": "b3bf7f18",
   "metadata": {},
   "outputs": [
    {
     "data": {
      "text/plain": [
       "<sqlite3.Cursor at 0x110cd99c0>"
      ]
     },
     "execution_count": 20,
     "metadata": {},
     "output_type": "execute_result"
    }
   ],
   "source": [
    "cursor.execute(\"select * from  students where name = ?\", (name,))"
   ]
  },
  {
   "cell_type": "code",
   "execution_count": 21,
   "id": "cbdc3e0d",
   "metadata": {},
   "outputs": [
    {
     "data": {
      "text/plain": [
       "[(5, 'Bishal', 10, 'nuwakot')]"
      ]
     },
     "execution_count": 21,
     "metadata": {},
     "output_type": "execute_result"
    }
   ],
   "source": [
    "cursor.fetchall()"
   ]
  },
  {
   "cell_type": "code",
   "execution_count": 22,
   "id": "ce6a6838",
   "metadata": {},
   "outputs": [],
   "source": [
    "# task 4 -- create a list of students record and pass it as parameterized query\n",
    "# to insert into students table\n"
   ]
  },
  {
   "cell_type": "code",
   "execution_count": 30,
   "id": "6fe0a2b0",
   "metadata": {},
   "outputs": [],
   "source": [
    "\n",
    "\n",
    "students_list =[('ram', 10, 'ktm'),('sita', 11,'chitwam'), ('Rira',2,'pokhara')]\n",
    "cursor.executemany(\"\"\"insert into students(name,grade,address)\n",
    "                   values(?,?,?)\"\"\",students_list )\n",
    "\n",
    "conn.commit()\n",
    "cursor.fetchall()\n",
    "cursor.execute(\"select* from students\")\n",
    "rows = cursor.fetchall()\n"
   ]
  },
  {
   "cell_type": "markdown",
   "id": "e7792c25",
   "metadata": {},
   "source": []
  },
  {
   "cell_type": "code",
   "execution_count": 31,
   "id": "f6009f8d",
   "metadata": {},
   "outputs": [
    {
     "data": {
      "text/plain": [
       "[(1, 'Lin', 12, 'Lalitpur'),\n",
       " (2, 'Lina', 11, 'ktm'),\n",
       " (3, 'Lin', 12, 'Lalitpur'),\n",
       " (4, 'Lina', 11, 'ktm'),\n",
       " (5, 'Bishal', 10, 'nuwakot'),\n",
       " (6, 'ram', 10, 'ktm'),\n",
       " (7, 'sita', 11, 'chitwam'),\n",
       " (8, 'Rira', 2, 'pokhara'),\n",
       " (9, 'ram', 10, 'ktm'),\n",
       " (10, 'sita', 11, 'chitwam'),\n",
       " (11, 'Rira', 2, 'pokhara'),\n",
       " (12, 'ram', 10, 'ktm'),\n",
       " (13, 'sita', 11, 'chitwam'),\n",
       " (14, 'Rira', 2, 'pokhara'),\n",
       " (15, 'ram', 10, 'ktm'),\n",
       " (16, 'sita', 11, 'chitwam'),\n",
       " (17, 'Rira', 2, 'pokhara')]"
      ]
     },
     "execution_count": 31,
     "metadata": {},
     "output_type": "execute_result"
    }
   ],
   "source": [
    "rows"
   ]
  },
  {
   "cell_type": "code",
   "execution_count": null,
   "id": "624ffeef",
   "metadata": {},
   "outputs": [],
   "source": []
  }
 ],
 "metadata": {
  "kernelspec": {
   "display_name": "Python 3",
   "language": "python",
   "name": "python3"
  },
  "language_info": {
   "codemirror_mode": {
    "name": "ipython",
    "version": 3
   },
   "file_extension": ".py",
   "mimetype": "text/x-python",
   "name": "python",
   "nbconvert_exporter": "python",
   "pygments_lexer": "ipython3",
   "version": "3.13.3"
  }
 },
 "nbformat": 4,
 "nbformat_minor": 5
}
